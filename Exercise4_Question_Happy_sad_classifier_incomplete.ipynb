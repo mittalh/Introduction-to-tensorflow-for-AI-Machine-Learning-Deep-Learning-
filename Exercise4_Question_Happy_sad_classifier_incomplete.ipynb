{
 "cells": [
  {
   "cell_type": "markdown",
   "metadata": {
    "colab_type": "text",
    "id": "UncprnB0ymAE"
   },
   "source": [
    "Below is code with a link to a happy or sad dataset which contains 80 images, 40 happy and 40 sad. \n",
    "Create a convolutional neural network that trains to 100% accuracy on these images,  which cancels training upon hitting training accuracy of >.999\n",
    "\n",
    "Hint -- it will work best with 3 convolutional layers."
   ]
  },
  {
   "cell_type": "code",
   "execution_count": 5,
   "metadata": {},
   "outputs": [],
   "source": [
    "import tensorflow as tf\n",
    "import os\n",
    "import zipfile\n",
    "from os import path, getcwd, chdir\n",
    "\n",
    "# DO NOT CHANGE THE LINE BELOW. If you are developing in a local\n",
    "# environment, then grab happy-or-sad.zip from the Coursera Jupyter Notebook\n",
    "# and place it inside a local folder and edit the path to that location\n",
    "\n",
    "path = f\"{getcwd()}/../tmp2/happy-or-sad.zip\"\n",
    "\n",
    "zip_ref = zipfile.ZipFile(path, 'r')\n",
    "zip_ref.extractall(\"/tmp/h-or-s\")\n",
    "zip_ref.close()"
   ]
  },
  {
   "cell_type": "code",
   "execution_count": 10,
   "metadata": {},
   "outputs": [],
   "source": [
    "# GRADED FUNCTION: train_happy_sad_model\n",
    "def train_happy_sad_model():\n",
    "    # Please write your code only where you are indicated.\n",
    "    # please do not remove # model fitting inline comments.\n",
    "\n",
    "    DESIRED_ACCURACY = 0.999\n",
    "\n",
    "    class myCallback(tf.keras.callbacks.Callback):\n",
    "         def on_epoch_end(self, epoch, logs={}):\n",
    "            if(logs.get('acc')>0.999):\n",
    "                print(\"\\nReached 99.9% accuracy so cancelling training!\")\n",
    "                self.model.stop_training = True\n",
    "\n",
    "    callbacks = myCallback()\n",
    "    \n",
    "    # This Code Block should Define and Compile the Model. Please assume the images are 150 X 150 in your implementation.\n",
    "    model = tf.keras.models.Sequential([ tf.keras.layers.Conv2D(16,(3,3),activation='relu',input_shape=(150,150,3)),\n",
    "                                        tf.keras.layers.MaxPooling2D(2,2),\n",
    "                                        tf.keras.layers.Conv2D(32,(3,3),activation='relu'),\n",
    "                                        tf.keras.layers.MaxPooling2D(2,2),\n",
    "                                        tf.keras.layers.Conv2D(64,(3,3),activation='relu'),\n",
    "                                        tf.keras.layers.MaxPooling2D(2,2),\n",
    "                                        tf.keras.layers.Flatten(),\n",
    "                                        tf.keras.layers.Dense(512,activation='relu'),\n",
    "                                        tf.keras.layers.Dense(1,activation='sigmoid')\n",
    "                                    \n",
    "        \n",
    "    ])\n",
    "   \n",
    "\n",
    "    from tensorflow.keras.optimizers import RMSprop\n",
    "\n",
    "    model.compile(loss='binary_crossentropy',optimizer=RMSprop(lr=0.001),metrics=['acc'])\n",
    "        \n",
    "\n",
    "    # This code block should create an instance of an ImageDataGenerator called train_datagen \n",
    "    # And a train_generator by calling train_datagen.flow_from_directory\n",
    "\n",
    "    from tensorflow.keras.preprocessing.image import ImageDataGenerator\n",
    "\n",
    "    \n",
    "    # All images will be rescaled by 1./255\n",
    "    train_datagen = ImageDataGenerator(rescale=1/255)\n",
    "    \n",
    "\n",
    "    # Flow training images in batches of 128 using train_datagen generator\n",
    "    train_generator = train_datagen.flow_from_directory(\n",
    "        '/tmp/h-or-s/',  # This is the source directory for training images\n",
    "        target_size=(150,150),  # All images will be resized to 150x150\n",
    "        batch_size=1,\n",
    "        # Since we use binary_crossentropy loss, we need binary labels\n",
    "        class_mode='binary')\n",
    "\n",
    "    \n",
    "    \n",
    "\n",
    "    # Please use a target_size of 150 X 150.\n",
    "    #train_generator = train_datagen.flow_from_directory(\n",
    "        # Your Code Here)\n",
    "    # Expected output: 'Found 80 images belonging to 2 classes'\n",
    "\n",
    "    # This code block should call model.fit_generator and train for\n",
    "    # a number of epochs.\n",
    "    # model fitting\n",
    "   \n",
    "    # model fitting\n",
    "    history = model.fit_generator(\n",
    "      train_generator,\n",
    "      epochs=20,\n",
    "      steps_per_epoch=80\n",
    "      )\n",
    "    return history.history['acc'][-1]"
   ]
  },
  {
   "cell_type": "code",
   "execution_count": 11,
   "metadata": {},
   "outputs": [
    {
     "name": "stdout",
     "output_type": "stream",
     "text": [
      "Found 80 images belonging to 2 classes.\n",
      "Epoch 1/20\n",
      "80/80 [==============================] - 3s 42ms/step - loss: 1.1901 - acc: 0.7125\n",
      "Epoch 2/20\n",
      "80/80 [==============================] - 2s 20ms/step - loss: 0.2468 - acc: 0.9125\n",
      "Epoch 3/20\n",
      "80/80 [==============================] - 2s 20ms/step - loss: 0.1344 - acc: 0.9625\n",
      "Epoch 4/20\n",
      "80/80 [==============================] - 2s 21ms/step - loss: 0.0897 - acc: 0.9875\n",
      "Epoch 5/20\n",
      "80/80 [==============================] - 2s 19ms/step - loss: 0.0193 - acc: 0.9875\n",
      "Epoch 6/20\n",
      "80/80 [==============================] - 2s 20ms/step - loss: 8.2754e-04 - acc: 1.0000\n",
      "Epoch 7/20\n",
      "80/80 [==============================] - 2s 20ms/step - loss: 6.4115e-06 - acc: 1.0000\n",
      "Epoch 8/20\n",
      "80/80 [==============================] - 2s 21ms/step - loss: 6.6256e-08 - acc: 1.0000\n",
      "Epoch 9/20\n",
      "80/80 [==============================] - 2s 19ms/step - loss: 2.1657e-07 - acc: 1.0000\n",
      "Epoch 10/20\n",
      "80/80 [==============================] - 2s 19ms/step - loss: 3.6784e-05 - acc: 1.0000\n",
      "Epoch 11/20\n",
      "80/80 [==============================] - 2s 20ms/step - loss: 4.5008e-08 - acc: 1.0000\n",
      "Epoch 12/20\n",
      "80/80 [==============================] - 2s 20ms/step - loss: 9.7038e-10 - acc: 1.0000\n",
      "Epoch 13/20\n",
      "80/80 [==============================] - 2s 20ms/step - loss: 1.5677e-10 - acc: 1.0000\n",
      "Epoch 14/20\n",
      "80/80 [==============================] - 2s 21ms/step - loss: 6.8182e-11 - acc: 1.0000\n",
      "Epoch 15/20\n",
      "80/80 [==============================] - 2s 19ms/step - loss: 4.3751e-11 - acc: 1.0000\n",
      "Epoch 16/20\n",
      "80/80 [==============================] - 2s 20ms/step - loss: 3.2896e-11 - acc: 1.0000\n",
      "Epoch 17/20\n",
      "80/80 [==============================] - 2s 19ms/step - loss: 2.6573e-11 - acc: 1.0000\n",
      "Epoch 18/20\n",
      "80/80 [==============================] - 2s 20ms/step - loss: 2.2455e-11 - acc: 1.0000\n",
      "Epoch 19/20\n",
      "80/80 [==============================] - 2s 21ms/step - loss: 1.9592e-11 - acc: 1.0000\n",
      "Epoch 20/20\n",
      "80/80 [==============================] - 2s 20ms/step - loss: 1.7542e-11 - acc: 1.0000\n"
     ]
    },
    {
     "data": {
      "text/plain": [
       "1.0"
      ]
     },
     "execution_count": 11,
     "metadata": {},
     "output_type": "execute_result"
    }
   ],
   "source": [
    "# The Expected output: \"Reached 99.9% accuracy so cancelling training!\"\"\n",
    "train_happy_sad_model()\n"
   ]
  }
 ],
 "metadata": {
  "coursera": {
   "course_slug": "introduction-tensorflow",
   "graded_item_id": "1kAlw",
   "launcher_item_id": "PNLYD"
  },
  "kernelspec": {
   "display_name": "Python 3",
   "language": "python",
   "name": "python3"
  },
  "language_info": {
   "codemirror_mode": {
    "name": "ipython",
    "version": 3
   },
   "file_extension": ".py",
   "mimetype": "text/x-python",
   "name": "python",
   "nbconvert_exporter": "python",
   "pygments_lexer": "ipython3",
   "version": "3.6.8"
  }
 },
 "nbformat": 4,
 "nbformat_minor": 1
}
